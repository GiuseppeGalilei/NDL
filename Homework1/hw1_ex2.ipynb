{
 "cells": [
  {
   "cell_type": "markdown",
   "id": "661d0c0e-659b-411f-9dff-4d851e3deeab",
   "metadata": {},
   "source": [
    "# Exercise 2"
   ]
  },
  {
   "cell_type": "code",
   "execution_count": 1,
   "id": "742e19b3-4a76-4cca-9ebc-001db7104f61",
   "metadata": {},
   "outputs": [],
   "source": [
    "import numpy as np\n",
    "import networkx as nx\n",
    "import matplotlib.pyplot as plt\n",
    "import copy\n",
    "%matplotlib inline"
   ]
  },
  {
   "cell_type": "markdown",
   "id": "fa5a6da7-b735-4aa3-9f19-1e50514b1371",
   "metadata": {},
   "source": [
    "# A"
   ]
  },
  {
   "cell_type": "code",
   "execution_count": 2,
   "id": "83ceac20-13ad-4059-b418-2ac40b6c0262",
   "metadata": {},
   "outputs": [
    {
     "data": {
      "image/png": "[encoded data removed]",
      "text/plain": [
       "<Figure size 432x288 with 1 Axes>"
      ]
     },
     "metadata": {},
     "output_type": "display_data"
    }
   ],
   "source": [
    "G = nx.DiGraph()\n",
    "G.add_edges_from([('p1','b1'),('p1','b2'),\n",
    "                 ('p2','b2'),('p2','b3'),\n",
    "                 ('p3','b1'),('p3','b4'),\n",
    "                 ('p4','b1'),('p4','b2'),('p4','b4')])\n",
    "\n",
    "pos = {'p1':[1,1], 'p2':[1,3], 'p3':[1,5],'p4':[1,7],'b1':[2,1],'b2':[2,3],'b3':[2,5],'b4':[2,7]}\n",
    "people = nx.bipartite.sets(G)[0]\n",
    "books = nx.bipartite.sets(G)[1]\n",
    "nx.draw(G, pos, with_labels = True, node_color='grey', node_size=600,linewidths=1.5, font_family=\"serif\")\n",
    "#plt.savefig(\"people_books_bipartite.eps\", format='eps')"
   ]
  },
  {
   "cell_type": "markdown",
   "id": "76ee0a91-cfb6-484c-b729-096e8c9de27f",
   "metadata": {},
   "source": [
    "# B"
   ]
  },
  {
   "cell_type": "code",
   "execution_count": 3,
   "id": "5fd554a7-a85b-435b-95cb-0385cc707607",
   "metadata": {},
   "outputs": [],
   "source": [
    "#create an auxiliary graph starting from graph G\n",
    "#an edge is added from a node \"s\" to each person\n",
    "#an edge is added from each book to a node \"t\"\n",
    "G_aux=nx.DiGraph()\n",
    "for person in people:\n",
    "    G_aux.add_edge(\"s\", person, capacity=1)\n",
    "for book in books:\n",
    "    G_aux.add_edge(book, \"t\", capacity=1)\n",
    "for edge in G.edges:\n",
    "    G_aux.add_edge(edge[0],edge[1], capacity=1)"
   ]
  },
  {
   "cell_type": "code",
   "execution_count": 4,
   "id": "e9486aeb-18fb-4d6c-a2e1-de6893559979",
   "metadata": {},
   "outputs": [
    {
     "data": {
      "image/png": "[encoded data removed]",
      "text/plain": [
       "<Figure size 432x288 with 1 Axes>"
      ]
     },
     "metadata": {},
     "output_type": "display_data"
    }
   ],
   "source": [
    "pos = {'s':[0,5],'p1':[1,1], 'p2':[1,3], 'p3':[1,5],'p4':[1,7],'b1':[2,1],'b2':[2,3],'b3':[2,5],'b4':[2,7], 't':[3,5]}\n",
    "nx.draw(G_aux, pos, with_labels = True, node_color='grey', node_size=600,linewidths=1.5)\n",
    "#plt.savefig(\"people_books_bipartite_with_ST.eps\", format='eps')"
   ]
  },
  {
   "cell_type": "code",
   "execution_count": 5,
   "id": "dd76c5b3-21a7-4b79-a19a-4ce1e8ea74b8",
   "metadata": {},
   "outputs": [
    {
     "name": "stdout",
     "output_type": "stream",
     "text": [
      "Perfect Matching exists, a possibility is:\n",
      "p2 {'b2': 0, 'b3': 1}\n",
      "p3 {'b1': 0, 'b4': 1}\n",
      "p1 {'b1': 0, 'b2': 1}\n",
      "p4 {'b1': 1, 'b2': 0, 'b4': 0}\n"
     ]
    }
   ],
   "source": [
    "max_flow=nx.algorithms.flow.maximum_flow(G_aux,'s','t')\n",
    "if max_flow[0]==len(people):\n",
    "    print(\"Perfect Matching exists, a possibility is:\")\n",
    "    for person in people:\n",
    "        print(person, max_flow[1][person])\n",
    "else:\n",
    "    print(\"Perfect Matching does not exists\")"
   ]
  },
  {
   "cell_type": "markdown",
   "id": "d973ad47-0db4-42ba-a7bb-300566aa8fc8",
   "metadata": {},
   "source": [
    "# C"
   ]
  },
  {
   "cell_type": "code",
   "execution_count": 6,
   "id": "9cd553a5-6fb9-40b3-9789-f2c56e0bd104",
   "metadata": {},
   "outputs": [],
   "source": [
    "G_aux_C=copy.deepcopy(G_aux)\n",
    "inventory={\"b1\":2, \"b2\":3, \"b3\":2, \"b4\":2}\n",
    "#numero di libri a cui è interessato\n",
    "\n",
    "#given that a person can take at most one copy for each book he is interested in, \"max_copies_person\" has the value of each person node\n",
    "max_copies_person={}\n",
    "for person in people:\n",
    "    max_copies_person[person]=G.out_degree(person)\n",
    "    \n",
    "for book in inventory.items():\n",
    "    G_aux_C[book[0]][\"t\"][\"capacity\"]=book[1]\n",
    "for person in people:\n",
    "    G_aux_C[\"s\"][person][\"capacity\"]=max_copies_person[person]"
   ]
  },
  {
   "cell_type": "code",
   "execution_count": 7,
   "id": "a324158e-8d10-45a7-b921-39f043ed7b88",
   "metadata": {},
   "outputs": [
    {
     "name": "stdout",
     "output_type": "stream",
     "text": [
      "In total can be assigned 8 copies, a possibility is:\n",
      "p2 {'b2': 1, 'b3': 1}\n",
      "p3 {'b1': 0, 'b4': 1}\n",
      "p1 {'b1': 1, 'b2': 1}\n",
      "p4 {'b1': 1, 'b2': 1, 'b4': 1}\n"
     ]
    }
   ],
   "source": [
    "max_flow=nx.algorithms.flow.maximum_flow(G_aux_C,'s','t')\n",
    "print(\"In total can be assigned\", max_flow[0], \"copies, a possibility is:\")\n",
    "for person in people:\n",
    "    print(person, max_flow[1][person])"
   ]
  },
  {
   "cell_type": "markdown",
   "id": "4812b7f7-21dc-42e3-803b-b6102a231af8",
   "metadata": {
    "tags": []
   },
   "source": [
    "# D"
   ]
  },
  {
   "cell_type": "code",
   "execution_count": 8,
   "id": "b8b0ddae-e498-448e-a785-eda3203800a6",
   "metadata": {},
   "outputs": [
    {
     "name": "stdout",
     "output_type": "stream",
     "text": [
      "At the beginning, the state of needs is\n",
      " {'b3': 1, 'b4': 0, 'b2': 0, 'b1': -1}\n",
      "The old inventory was\n",
      " {'b1': 2, 'b2': 3, 'b3': 2, 'b4': 2}\n",
      "At the end, the new inventory is\n",
      " {'b1': 3, 'b2': 3, 'b3': 1, 'b4': 2}\n"
     ]
    }
   ],
   "source": [
    "G_aux_D=copy.deepcopy(G_aux_C)\n",
    "#the variable state carries the need (negative value) and surplus (positive value) for each book\n",
    "#the state value is obtained for each book as a difference between the capacity of the link \"book->t\" and the number of interested people (in_degree of the book node)\n",
    "state={}\n",
    "for book in books:\n",
    "    state[book]=G_aux_D[book]['t'][\"capacity\"]-G_aux_D.in_degree(book)\n",
    "print(\"At the beginning, the state of needs is\\n\", state)\n",
    "#inventory_BuyAndSell is an array that carries the inventory state during processing, showing at the end the optimal inventory after buying and selling books\n",
    "inventory_BuyAndSell=inventory.copy()\n",
    "copy_found=1\n",
    "while copy_found:\n",
    "    copy_found=0\n",
    "    for book_neg in state.items():\n",
    "        if book_neg[1]<0:\n",
    "            for book_pos in state.items():\n",
    "                if book_pos[1]>0:\n",
    "                    diff=book_pos[1]+book_neg[1]\n",
    "                    if diff>0:\n",
    "                        inventory_BuyAndSell[book_neg[0]]-=book_neg[1]\n",
    "                        inventory_BuyAndSell[book_pos[0]]+=book_neg[1]\n",
    "                        state[book_pos[0]]=diff\n",
    "                        state[book_neg[0]]=0\n",
    "                    else:\n",
    "                        inventory_BuyAndSell[book_neg[0]]+=book_pos[1]\n",
    "                        inventory_BuyAndSell[book_pos[0]]-=book_pos[1]\n",
    "                        state[book_pos[0]]=0\n",
    "                        state[book_neg[0]]=diff\n",
    "                    copy_found=1\n",
    "                    break\n",
    "                else:\n",
    "                    copy_found=0\n",
    "print(\"The old inventory was\\n\", inventory)\n",
    "print(\"At the end, the new inventory is\\n\", inventory_BuyAndSell )"
   ]
  },
  {
   "cell_type": "code",
   "execution_count": 9,
   "id": "2cfb0415-a218-416d-a0e2-6b508595cd22",
   "metadata": {},
   "outputs": [
    {
     "name": "stdout",
     "output_type": "stream",
     "text": [
      "In total, after buying and selling, can be assigned 9 copies, a possibility is:\n",
      "p2 {'b2': 1, 'b3': 1}\n",
      "p3 {'b1': 1, 'b4': 1}\n",
      "p1 {'b1': 1, 'b2': 1}\n",
      "p4 {'b1': 1, 'b2': 1, 'b4': 1}\n"
     ]
    }
   ],
   "source": [
    "for book in inventory_BuyAndSell.items():\n",
    "    G_aux_D[book[0]][\"t\"][\"capacity\"]=book[1]\n",
    "\n",
    "max_flow=nx.algorithms.flow.maximum_flow(G_aux_D,'s','t')\n",
    "print(\"In total, after buying and selling, can be assigned\", max_flow[0], \"copies, a possibility is:\")\n",
    "for person in people:\n",
    "    print(person, max_flow[1][person])"
   ]
  },
  {
   "cell_type": "code",
   "execution_count": null,
   "id": "99a16dc7-9f86-4387-889e-4ba464fe0338",
   "metadata": {},
   "outputs": [],
   "source": []
  }
 ],
 "metadata": {
  "kernelspec": {
   "display_name": "NDL_env",
   "language": "python",
   "name": "ndl_env"
  },
  "language_info": {
   "codemirror_mode": {
    "name": "ipython",
    "version": 3
   },
   "file_extension": ".py",
   "mimetype": "text/x-python",
   "name": "python",
   "nbconvert_exporter": "python",
   "pygments_lexer": "ipython3",
   "version": "3.8.11"
  }
 },
 "nbformat": 4,
 "nbformat_minor": 5
}
