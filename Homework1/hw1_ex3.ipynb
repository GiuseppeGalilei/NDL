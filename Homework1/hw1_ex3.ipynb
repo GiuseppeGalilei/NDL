{
 "cells": [
  {
   "cell_type": "code",
   "execution_count": 1,
   "id": "76d98ca4-0b80-4e45-9fd7-e17265de8ab4",
   "metadata": {},
   "outputs": [],
   "source": [
    "import numpy as np\n",
    "import networkx as nx\n",
    "import matplotlib.pyplot as plt\n",
    "%matplotlib inline\n",
    "import scipy.io\n",
    "import cvxpy as cp"
   ]
  },
  {
   "cell_type": "code",
   "execution_count": 2,
   "id": "6fb7df99-0057-4dc4-9c3e-8e1e0b6df8a2",
   "metadata": {},
   "outputs": [],
   "source": [
    "file = scipy.io.loadmat(\"capacities.mat\")\n",
    "capacities = file.get(\"capacities\")\n",
    "capacities = capacities.reshape(28,)\n",
    "file = scipy.io.loadmat(\"traveltime.mat\")\n",
    "traveltime = file.get(\"traveltime\")\n",
    "traveltime = traveltime.reshape(28,)\n",
    "file = scipy.io.loadmat(\"flow.mat\")\n",
    "flow = file.get(\"flow\")\n",
    "flow = flow.reshape(28,)\n",
    "file = scipy.io.loadmat(\"traffic.mat\")\n",
    "traffic = file.get(\"traffic\")"
   ]
  },
  {
   "cell_type": "code",
   "execution_count": 3,
   "id": "cf9d368f-bc9a-4083-b286-fc5a9123d600",
   "metadata": {},
   "outputs": [],
   "source": [
    "B=traffic\n",
    "le=traveltime\n",
    "Ce=capacities"
   ]
  },
  {
   "cell_type": "code",
   "execution_count": 4,
   "id": "a16c46fa-aea7-4a8b-95e0-e220e159a1ae",
   "metadata": {},
   "outputs": [],
   "source": [
    "def compute_system_cost(flow,traveltime,capacities):\n",
    "    return flow@(traveltime/(1-(flow/capacities)))"
   ]
  },
  {
   "cell_type": "code",
   "execution_count": 5,
   "id": "52c27fa6-35a7-446a-a371-d58c67717ae2",
   "metadata": {},
   "outputs": [],
   "source": [
    "def compute_system_cost_G(flow,traveltime,capacities):\n",
    "    return flow@(traveltime/(1-(flow/capacities))-traveltime)"
   ]
  },
  {
   "cell_type": "markdown",
   "id": "4264308b-43fb-42f4-94b8-57e76bfe64b4",
   "metadata": {},
   "source": [
    "## A"
   ]
  },
  {
   "cell_type": "code",
   "execution_count": 6,
   "id": "4d95da79-71d6-426f-a5a2-42499c4390fb",
   "metadata": {},
   "outputs": [],
   "source": [
    "G=nx.DiGraph()\n",
    "#construct the graph G starting from the matrix B (node link incidence matrix)\n",
    "for i in range(0, B.shape[1]):\n",
    "    edge_nf=0\n",
    "    j=-1\n",
    "    \n",
    "    while edge_nf!=2:\n",
    "        j+=1\n",
    "        cell=B[j][i]\n",
    "        if cell==1:\n",
    "            edge_nf+=1\n",
    "            head=j+1\n",
    "        if cell==-1:\n",
    "            edge_nf+=1\n",
    "            tail=j+1\n",
    "            \n",
    "    G.add_edge(head, tail, capacity=Ce[i])"
   ]
  },
  {
   "cell_type": "code",
   "execution_count": 7,
   "id": "b33b1ed5-7877-4712-b372-907d53116a50",
   "metadata": {},
   "outputs": [
    {
     "data": {
      "image/png": "[encoded data removed]",
      "text/plain": [
       "<Figure size 432x288 with 1 Axes>"
      ]
     },
     "metadata": {},
     "output_type": "display_data"
    }
   ],
   "source": [
    "pos = {17:[7,0],14:[7,1],13:[6,1],1:[0,6],2:[2,6],3:[3,6],4:[5,6],5:[7,5.5],6:[0.5,4],7:[2,4],8:[3,4],9:[4,4.5],10:[2,2],11:[3,2],12:[4,2],15:[3,1],16:[4.5,0.5]}\n",
    "nx.draw(G, pos, with_labels=True)"
   ]
  },
  {
   "cell_type": "code",
   "execution_count": 8,
   "id": "bff5baa8-0d10-440b-952c-d372b83c7b84",
   "metadata": {},
   "outputs": [],
   "source": [
    "n_edges = len(G.edges)\n",
    "tau=1\n",
    "nu_base=np.zeros(17)\n",
    "nu_base[0]=1\n",
    "nu_base[16]=-1\n",
    "nu=nu_base*tau"
   ]
  },
  {
   "cell_type": "code",
   "execution_count": 9,
   "id": "71960286-a3f1-4008-807f-63204290d6c9",
   "metadata": {},
   "outputs": [
    {
     "name": "stderr",
     "output_type": "stream",
     "text": [
      "/home/giuseppegalilei/anaconda3/envs/NDL/lib/python3.8/site-packages/cvxpy/problems/problem.py:1278: UserWarning: Solution may be inaccurate. Try another solver, adjusting the solver settings, or solve with verbose=True for more information.\n",
      "  warnings.warn(\n"
     ]
    }
   ],
   "source": [
    "f = cp.Variable(n_edges)\n",
    "objective = cp.Minimize(le.T @ f)\n",
    "constraints = [B @ f == nu, f >=0,  f<=Ce]\n",
    "prob = cp.Problem(objective, constraints)\n",
    "result = prob.solve()"
   ]
  },
  {
   "cell_type": "code",
   "execution_count": 10,
   "id": "c8756d89-a5da-4a72-a0df-ab620b05d09b",
   "metadata": {},
   "outputs": [
    {
     "name": "stdout",
     "output_type": "stream",
     "text": [
      "Shortest path has value 0.5329960020127646 and is made of links:\n",
      "Link 1\n",
      "Link 2\n",
      "Link 9\n",
      "Link 12\n",
      "Link 25\n"
     ]
    }
   ],
   "source": [
    "print(\"Shortest path has value\", result,\"and is made of links:\")\n",
    "i=1\n",
    "for edge_flow in f.value:\n",
    "    if edge_flow >= 0.1:\n",
    "        print(\"Link\",i)\n",
    "    i+=1"
   ]
  },
  {
   "cell_type": "markdown",
   "id": "47014bfa-4e54-4efd-bf2d-8c7d62ec3abb",
   "metadata": {},
   "source": [
    "### B"
   ]
  },
  {
   "cell_type": "code",
   "execution_count": 11,
   "id": "1929414b-34ad-4671-8870-3c6130dd7bdb",
   "metadata": {},
   "outputs": [
    {
     "name": "stdout",
     "output_type": "stream",
     "text": [
      "The maximum flow from node 1 to 17 is 22448\n"
     ]
    }
   ],
   "source": [
    "print(\"The maximum flow from node 1 to 17 is\", nx.algorithms.flow.maximum_flow(G, 1,17)[0])"
   ]
  },
  {
   "cell_type": "markdown",
   "id": "9c08c65c-e1c8-4509-a9e5-463a5f449aa9",
   "metadata": {},
   "source": [
    "## C"
   ]
  },
  {
   "cell_type": "code",
   "execution_count": 12,
   "id": "cb71bb58-5c09-4591-8b4e-75d4df67511f",
   "metadata": {},
   "outputs": [
    {
     "name": "stdout",
     "output_type": "stream",
     "text": [
      "The exogenous flow vector requested is\n",
      " [ 16806   8570  19448   4957   -746   4768    413     -2  -5671   1169\n",
      "     -5  -7131   -380  -7412  -7810  -3430 -23544]\n"
     ]
    }
   ],
   "source": [
    "nu_C=B@flow\n",
    "print(\"The exogenous flow vector requested is\\n\",nu_C)"
   ]
  },
  {
   "cell_type": "markdown",
   "id": "43e0b7a9-4a69-4b84-90da-2ba4c24e8831",
   "metadata": {},
   "source": [
    "## D"
   ]
  },
  {
   "cell_type": "code",
   "execution_count": 13,
   "id": "ef7ce9b0-49c2-4d6d-9b07-425a3cf09c09",
   "metadata": {},
   "outputs": [],
   "source": [
    "nu_base=np.zeros(17)\n",
    "nu_D=nu\n",
    "nu_D[0]=nu_C[0]\n",
    "nu_D[16]=-nu_C[0]"
   ]
  },
  {
   "cell_type": "code",
   "execution_count": 14,
   "id": "d8bb2244-4480-4c10-a20e-7a78436b7de2",
   "metadata": {},
   "outputs": [],
   "source": [
    "f = cp.Variable(n_edges)\n",
    "lc=le*Ce\n",
    "objective=cp.Minimize(cp.sum(cp.multiply(lc,(cp.inv_pos(1-cp.multiply(f,cp.inv_pos(Ce))))) - lc))\n",
    "constraints = [B @ f == nu_D, f >=0,  f<=Ce]\n",
    "prob = cp.Problem(objective, constraints)\n",
    "result = prob.solve()"
   ]
  },
  {
   "cell_type": "code",
   "execution_count": 15,
   "id": "6802cf5e-4e99-4d12-9585-e90a43eace6f",
   "metadata": {},
   "outputs": [
    {
     "name": "stdout",
     "output_type": "stream",
     "text": [
      "The social optimum cost is: 25943.62261121288\n",
      "The social optimum flow is:\n",
      " [6.64219910e+03 6.05893789e+03 3.13232779e+03 3.13232589e+03\n",
      " 1.01638009e+04 4.63831664e+03 3.00634073e+03 2.54263460e+03\n",
      " 3.13154448e+03 5.83261212e+02 1.45164550e-02 2.92659559e+03\n",
      " 1.89781986e-03 3.13232589e+03 5.52548426e+03 2.85427264e+03\n",
      " 4.88644874e+03 2.21523712e+03 4.63720641e+02 2.33768761e+03\n",
      " 3.31799129e+03 5.65567890e+03 2.37310712e+03 1.99567283e-03\n",
      " 6.41411626e+03 5.50543301e+03 4.88645073e+03 4.88645073e+03]\n"
     ]
    }
   ],
   "source": [
    "f_o=f.value\n",
    "result_o=result\n",
    "print(\"The social optimum cost is:\", result_o)\n",
    "print(\"The social optimum flow is:\\n\", f_o)"
   ]
  },
  {
   "cell_type": "markdown",
   "id": "774c7b87-b031-4ac6-8991-7a3b3905c494",
   "metadata": {},
   "source": [
    "## E"
   ]
  },
  {
   "cell_type": "code",
   "execution_count": 16,
   "id": "4ca9156a-bb38-4373-90af-bcbbc54f2508",
   "metadata": {},
   "outputs": [],
   "source": [
    "f = cp.Variable(n_edges)\n",
    "lc=le*Ce\n",
    "objective=cp.Minimize(cp.sum(-lc@cp.log(1-f/Ce)))\n",
    "constraints = [B @ f == nu_D, f >=0,  f<=Ce]\n",
    "prob = cp.Problem(objective, constraints)\n",
    "result = prob.solve()"
   ]
  },
  {
   "cell_type": "code",
   "execution_count": 17,
   "id": "5815a45d-9db6-443d-a291-0e55ac7dec05",
   "metadata": {},
   "outputs": [
    {
     "name": "stdout",
     "output_type": "stream",
     "text": [
      "The user cost in wardrop is: 15729.60710343099\n",
      "The user optimum flow is:\n",
      " [6.71564895e+03 6.71564803e+03 2.36740801e+03 2.36740792e+03\n",
      " 1.00903510e+04 4.64539489e+03 2.80384316e+03 2.28356194e+03\n",
      " 3.41848003e+03 9.22328268e-04 1.76829408e+02 4.17141061e+03\n",
      " 8.92024178e-05 2.36740792e+03 5.44495611e+03 2.35317044e+03\n",
      " 4.93333832e+03 1.84155266e+03 6.97110629e+02 3.03649261e+03\n",
      " 3.05028094e+03 6.08677356e+03 2.58651143e+03 1.24029072e-04\n",
      " 6.91874216e+03 4.95391934e+03 4.93333845e+03 4.93333845e+03]\n"
     ]
    }
   ],
   "source": [
    "f_w=f.value\n",
    "result_w=result\n",
    "print(\"The user cost in wardrop is:\", result_w)\n",
    "print(\"The user optimum flow is:\\n\", f_w)"
   ]
  },
  {
   "cell_type": "code",
   "execution_count": 18,
   "id": "4e85a84c-b377-42ea-a698-b204e0d78361",
   "metadata": {},
   "outputs": [
    {
     "name": "stdout",
     "output_type": "stream",
     "text": [
      "The respective costs on the system are:\n",
      "\tSocial optimum cost: 25943.623\n",
      "\tWardrop cost: 26292.964\n",
      "\n",
      "Price of anarchy: 1.013\n"
     ]
    }
   ],
   "source": [
    "wardrop_cost = compute_system_cost(f_w,le,Ce)\n",
    "print(\"The respective costs on the system are:\")\n",
    "print(\"\\tSocial optimum cost: {:.3f}\\n\\tWardrop cost: {:.3f}\".format(result_o,wardrop_cost))\n",
    "print(\"\\nPrice of anarchy: {:.3f}\".format(wardrop_cost/result_o))"
   ]
  },
  {
   "cell_type": "markdown",
   "id": "a079ef42-b698-4572-9502-0328c2ca3280",
   "metadata": {},
   "source": [
    "## F"
   ]
  },
  {
   "cell_type": "code",
   "execution_count": 19,
   "id": "16abfcbe-4c63-432e-a7be-ee9712613a0c",
   "metadata": {},
   "outputs": [],
   "source": [
    "tolls=f_o*le*Ce*1/(np.power(Ce-f_o, 2))"
   ]
  },
  {
   "cell_type": "code",
   "execution_count": 20,
   "id": "8d0cbd11-fd6f-43e2-a3a8-e45c98909433",
   "metadata": {},
   "outputs": [],
   "source": [
    "f = cp.Variable(n_edges)\n",
    "lc=le*Ce\n",
    "objective = cp.Minimize(cp.sum(cp.multiply(-lc,cp.log1p(cp.multiply(-f,cp.inv_pos(Ce)))) + cp.multiply(tolls,f)))\n",
    "constraints = [B @ f == nu_D, f >=0,  f<=Ce]\n",
    "prob = cp.Problem(objective, constraints)\n",
    "result = prob.solve()"
   ]
  },
  {
   "cell_type": "code",
   "execution_count": 21,
   "id": "95c53354-c5d5-46fc-87d3-ff1fae2ee09e",
   "metadata": {},
   "outputs": [
    {
     "name": "stdout",
     "output_type": "stream",
     "text": [
      "The user cost in wardrop with tolls is: 61885.75828419042\n",
      "The user optimum flow with tolls is:\n",
      " [6.64297510e+03 6.05907793e+03 3.13247156e+03 3.13247145e+03\n",
      " 1.01630248e+04 4.63825748e+03 3.00632468e+03 2.54233942e+03\n",
      " 3.13149039e+03 5.83897168e+02 4.41635538e-04 2.92660593e+03\n",
      " 1.13364091e-04 3.13247145e+03 5.52476733e+03 2.85422618e+03\n",
      " 4.88637111e+03 2.21582997e+03 4.63985699e+02 2.33745508e+03\n",
      " 3.31821174e+03 5.65566682e+03 2.37303573e+03 1.44842042e-04\n",
      " 6.41412148e+03 5.50550718e+03 4.88637126e+03 4.88637126e+03]\n"
     ]
    }
   ],
   "source": [
    "f_t=f.value\n",
    "result_t=result\n",
    "print(\"The user cost in wardrop with tolls is:\", result_t)\n",
    "print(\"The user optimum flow with tolls is:\\n\", f_t)"
   ]
  },
  {
   "cell_type": "code",
   "execution_count": 22,
   "id": "246d7cc5-6cd6-45de-93fa-894b9c31b0e4",
   "metadata": {},
   "outputs": [
    {
     "name": "stdout",
     "output_type": "stream",
     "text": [
      "The respective costs on the system are:\n",
      "\tSocial optimum cost: 25943.623\n",
      "\tWardrop cost: 26292.964\n",
      "\tWardrop with tolls cost: 25943.622\n"
     ]
    }
   ],
   "source": [
    "wardrop_cost = compute_system_cost(f_w,le,Ce)\n",
    "wardrop_withtolls_cost=compute_system_cost(f_t,le,Ce)\n",
    "print(\"The respective costs on the system are:\")\n",
    "print(\"\\tSocial optimum cost: {:.3f}\\n\\tWardrop cost: {:.3f}\\n\\tWardrop with tolls cost: {:.3f}\".format(result_o,wardrop_cost, wardrop_withtolls_cost))"
   ]
  },
  {
   "cell_type": "markdown",
   "id": "9c1de50c-5fba-42da-a668-8fe8237daaf5",
   "metadata": {},
   "source": [
    "# G"
   ]
  },
  {
   "cell_type": "code",
   "execution_count": 23,
   "id": "5f4ed18d-7f39-4e99-a40d-f6232e233564",
   "metadata": {},
   "outputs": [],
   "source": [
    "lc=le*Ce\n",
    "objective = cp.Minimize(cp.sum(cp.multiply(lc,(cp.inv_pos(1-cp.multiply(f,cp.inv_pos(Ce))))) - lc - cp.multiply(f, le)))\n",
    "constraints = [B @ f == nu_D, f >=0,  f<=Ce]\n",
    "prob = cp.Problem(objective, constraints)\n",
    "result = prob.solve()"
   ]
  },
  {
   "cell_type": "code",
   "execution_count": 24,
   "id": "39ddfc01-9544-4193-b667-1db6d00d1bf2",
   "metadata": {},
   "outputs": [
    {
     "name": "stdout",
     "output_type": "stream",
     "text": [
      "The social optimum cost is: 15095.51352460787\n",
      "The social optimum flow is:\n",
      " [6.65329658e+03 5.77466230e+03 3.41971657e+03 3.41971062e+03\n",
      " 1.01527034e+04 4.64278036e+03 3.10584008e+03 2.66218478e+03\n",
      " 3.00907935e+03 8.78634280e+02 7.42401749e-03 2.35493830e+03\n",
      " 5.94907576e-03 3.41971062e+03 5.50992306e+03 3.04369256e+03\n",
      " 4.88180506e+03 2.41557456e+03 4.43662730e+02 2.00804968e+03\n",
      " 3.48735309e+03 5.49540277e+03 2.20377848e+03 2.20338871e-03\n",
      " 6.30070364e+03 5.62348910e+03 4.88180726e+03 4.88180726e+03]\n"
     ]
    }
   ],
   "source": [
    "f_o_G=f.value\n",
    "result_o_G=result\n",
    "print(\"The social optimum cost is:\", result_o_G)\n",
    "print(\"The social optimum flow is:\\n\", f_o_G)"
   ]
  },
  {
   "cell_type": "code",
   "execution_count": 25,
   "id": "c7681e18-1380-4223-8fd7-851fce041702",
   "metadata": {},
   "outputs": [],
   "source": [
    "f = cp.Variable(n_edges)\n",
    "lc=le*Ce\n",
    "objective=cp.Minimize(cp.sum(cp.multiply(-lc,cp.log1p(cp.multiply(-f,cp.inv_pos(Ce)))) - cp.multiply(f, le)))\n",
    "constraints = [B @ f == nu_D, f >=0,  f<=Ce]\n",
    "prob = cp.Problem(objective, constraints)\n",
    "result = prob.solve()"
   ]
  },
  {
   "cell_type": "code",
   "execution_count": 26,
   "id": "3d0b13f1-343d-4366-bba8-a71a9036834c",
   "metadata": {},
   "outputs": [
    {
     "name": "stdout",
     "output_type": "stream",
     "text": [
      "The user cost in wardrop is: 5014.4918319848575\n",
      "The user optimum flow is:\n",
      " [6.78171861e+03 6.00489674e+03 3.26626641e+03 3.26625120e+03\n",
      " 1.00242813e+04 4.66556349e+03 3.02889540e+03 2.64103584e+03\n",
      " 3.03881982e+03 7.76821866e+02 2.40309308e+02 2.49832102e+03\n",
      " 1.52097660e-02 3.26625120e+03 5.35871777e+03 2.88151993e+03\n",
      " 4.89068780e+03 2.41348995e+03 6.28168876e+02 2.10055225e+03\n",
      " 3.50968657e+03 5.61023882e+03 2.26259310e+03 2.23404877e-03\n",
      " 6.38646554e+03 5.52884430e+03 4.89069003e+03 4.89069003e+03]\n",
      "\n",
      "The respective costs on the system are:\n",
      "\tSocial optimum cost: 15095.514\n",
      "\tWardrop cost: 15148.087\n",
      "\n",
      "Price of anarchy: 1.003\n"
     ]
    }
   ],
   "source": [
    "f_w_G=f.value\n",
    "result_w_G=result\n",
    "print(\"The user cost in wardrop is:\", result_w_G)\n",
    "print(\"The user optimum flow is:\\n\", f_w_G)\n",
    "\n",
    "wardrop_cost_G = compute_system_cost_G(f_w_G,le,Ce)\n",
    "print(\"\\nThe respective costs on the system are:\")\n",
    "print(\"\\tSocial optimum cost: {:.3f}\\n\\tWardrop cost: {:.3f}\".format(result_o_G,wardrop_cost_G))\n",
    "print(\"\\nPrice of anarchy: {:.3f}\".format(wardrop_cost_G/result_o_G))"
   ]
  },
  {
   "cell_type": "code",
   "execution_count": 27,
   "id": "a50e4dab-ffec-4b09-b440-c13244568c6c",
   "metadata": {},
   "outputs": [],
   "source": [
    "tolls_G=f_o_G*le*Ce*1/(np.power(Ce-f_o_G, 2))"
   ]
  },
  {
   "cell_type": "code",
   "execution_count": 28,
   "id": "b8fb302b-b605-45df-aba6-d4e14751f6aa",
   "metadata": {},
   "outputs": [],
   "source": [
    "f = cp.Variable(n_edges)\n",
    "lc=le*Ce\n",
    "objective = cp.Minimize(cp.sum(cp.multiply(-lc,cp.log1p(cp.multiply(-f,cp.inv_pos(Ce))))- cp.multiply(f, le) + cp.multiply(tolls_G,f)))\n",
    "constraints = [B @ f == nu_D, f >=0,  f<=Ce]\n",
    "prob = cp.Problem(objective, constraints)\n",
    "result = prob.solve()"
   ]
  },
  {
   "cell_type": "code",
   "execution_count": 29,
   "id": "8665bda1-c634-44f5-aaf7-f68e9bd9cf0b",
   "metadata": {},
   "outputs": [
    {
     "name": "stdout",
     "output_type": "stream",
     "text": [
      "The user cost in wardrop with tolls is: 50795.960339220146\n",
      "The user optimum flow with tolls is:\n",
      " [6.65313125e+03 5.77541915e+03 3.41948032e+03 3.41947910e+03\n",
      " 1.01528686e+04 4.64242340e+03 3.10549352e+03 2.66173288e+03\n",
      " 3.00916867e+03 8.77712096e+02 1.51897306e-03 2.35593731e+03\n",
      " 1.22684777e-03 3.41947910e+03 5.51044520e+03 3.04337504e+03\n",
      " 4.88171213e+03 2.41464197e+03 4.43762163e+02 2.00850274e+03\n",
      " 3.48713672e+03 5.49563946e+03 2.20406969e+03 4.88393528e-04\n",
      " 6.30073844e+03 5.62354878e+03 4.88171262e+03 4.88171262e+03]\n"
     ]
    }
   ],
   "source": [
    "f_t_G=f.value\n",
    "result_t_G=result\n",
    "print(\"The user cost in wardrop with tolls is:\", result_t_G)\n",
    "print(\"The user optimum flow with tolls is:\\n\", f_t_G)"
   ]
  },
  {
   "cell_type": "code",
   "execution_count": 30,
   "id": "f5bb7933-d2bb-4db4-9683-a39d9c4fe0d4",
   "metadata": {},
   "outputs": [
    {
     "name": "stdout",
     "output_type": "stream",
     "text": [
      "The respective costs on the system are:\n",
      "\tSocial optimum cost: 15095.514\n",
      "\tWardrop cost: 15148.087\n",
      "\tWardrop with tolls cost: 15095.513\n"
     ]
    }
   ],
   "source": [
    "wardrop_cost_G = compute_system_cost_G(f_w_G,le,Ce)\n",
    "wardrop_withtolls_cost_G=compute_system_cost_G(f_t_G,le,Ce)\n",
    "print(\"The respective costs on the system are:\")\n",
    "print(\"\\tSocial optimum cost: {:.3f}\\n\\tWardrop cost: {:.3f}\\n\\tWardrop with tolls cost: {:.3f}\".format(result_o_G,wardrop_cost_G, wardrop_withtolls_cost_G))"
   ]
  },
  {
   "cell_type": "code",
   "execution_count": null,
   "id": "f49e4f59-16b8-4e32-af3f-13702f970245",
   "metadata": {},
   "outputs": [],
   "source": []
  },
  {
   "cell_type": "code",
   "execution_count": null,
   "id": "36b42af4-c9fd-4e36-9864-6dbee083573a",
   "metadata": {},
   "outputs": [],
   "source": []
  }
 ],
 "metadata": {
  "kernelspec": {
   "display_name": "NDL_env",
   "language": "python",
   "name": "ndl_env"
  },
  "language_info": {
   "codemirror_mode": {
    "name": "ipython",
    "version": 3
   },
   "file_extension": ".py",
   "mimetype": "text/x-python",
   "name": "python",
   "nbconvert_exporter": "python",
   "pygments_lexer": "ipython3",
   "version": "3.8.11"
  }
 },
 "nbformat": 4,
 "nbformat_minor": 5
}
