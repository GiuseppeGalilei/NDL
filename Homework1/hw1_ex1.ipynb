{
 "cells": [
  {
   "cell_type": "markdown",
   "id": "d2fe2a9e-9138-423f-9df3-f717538b096a",
   "metadata": {},
   "source": [
    "# Exercise 1"
   ]
  },
  {
   "cell_type": "code",
   "execution_count": 1,
   "id": "2ecc43f7-8e9c-4a0f-88ec-871cfef019e7",
   "metadata": {},
   "outputs": [],
   "source": [
    "import numpy as np\n",
    "import networkx as nx\n",
    "import matplotlib.pyplot as plt\n",
    "import itertools\n",
    "import copy\n",
    "%matplotlib inline"
   ]
  },
  {
   "cell_type": "code",
   "execution_count": 2,
   "id": "d61d0c55-4337-480f-b221-6f7fa9239e57",
   "metadata": {},
   "outputs": [],
   "source": [
    "# Returns all possible powersets, given an iterable, as a list\n",
    "def powerset(iterable):\n",
    "    s = list(iterable)\n",
    "    return itertools.chain.from_iterable(itertools.combinations(s, r) for r in range(1, len(s)+1))"
   ]
  },
  {
   "cell_type": "code",
   "execution_count": 3,
   "id": "3b772bc8-3655-47f7-9951-3ad4d23f87f9",
   "metadata": {},
   "outputs": [],
   "source": [
    "# Given a Graph G this function returns a list of all possible cuts\n",
    "# A cut [set_o, set_d] is a list made up of two lists, representing the partitions\n",
    "# containing the origin node and destination node respectively\n",
    "def cuts_compute(G):\n",
    "    cuts=[]\n",
    "    nodes=list(G.nodes)\n",
    "    nodes.remove(\"d\")\n",
    "    nodes.remove(\"o\")\n",
    "    \n",
    "    #generate powersets of nodes without origin and destination nodes\n",
    "    sets_tmp=list(powerset(nodes))\n",
    "    \n",
    "    #generate all possible origin partitions\n",
    "    sets_o=[]\n",
    "    for set_tmp in sets_tmp:\n",
    "        tmp=list(set_tmp)\n",
    "        tmp.append(\"o\")\n",
    "        sets_o.append(tmp)\n",
    "    sets_o.append([\"o\"])\n",
    "\n",
    "    #given an origin partition generate the respective destination partition\n",
    "    for set_o in sets_o:\n",
    "        set_d=[]\n",
    "        for node in G.nodes:\n",
    "            if node not in set_o:\n",
    "                set_d.append(node)\n",
    "        #save the possible cut in \"cuts\" list\n",
    "        cuts.append([set_o, set_d])\n",
    "\n",
    "    \n",
    "    return cuts"
   ]
  },
  {
   "cell_type": "code",
   "execution_count": 4,
   "id": "20718588-fbcf-4f4a-8030-560b19348202",
   "metadata": {},
   "outputs": [],
   "source": [
    "# Starting from a graph (\"G\") and a list of possible cuts (\"cuts\") , returns all \"min capacity\" cuts and the \"min capacity\" value \n",
    "def min_cuts_select(cuts, G):\n",
    "    min_capacity=np.inf\n",
    "    min_cuts=[]\n",
    "    \n",
    "    for cut in cuts:\n",
    "        c=0\n",
    "        #generate possible edges from combination of nodes from origin and destination partition\n",
    "        possible_edges = list(itertools.product(cut[0], cut[1]))\n",
    "        \n",
    "        for edge in possible_edges:\n",
    "            #if the edge exists in the graph, add its capacity to the total capacity of the cut (\"c\")\n",
    "            if edge in G.edges:\n",
    "                c+=G[edge[0]][edge[1]][\"capacity\"]\n",
    "        \n",
    "        if c==min_capacity:\n",
    "            min_cuts.append([cut[0], cut[1]])\n",
    "        if c<min_capacity:\n",
    "            min_capacity=c\n",
    "            min_cuts=[]\n",
    "            min_cuts.append([cut[0], cut[1]])\n",
    "\n",
    "    return min_capacity, min_cuts"
   ]
  },
  {
   "cell_type": "code",
   "execution_count": 5,
   "id": "c4b1d79d-3b7c-4c53-8338-70a73c1704e4",
   "metadata": {},
   "outputs": [],
   "source": [
    "# Given a graph \"G\" and a list of possible cuts (\"cuts\"), \n",
    "# returns the sum of all \"cut capacities\"\n",
    "def sum_cut_capacities(cuts, G):\n",
    "    c=0\n",
    "    for cut in cuts:\n",
    "        possible_edges = list(itertools.product(cut[0], cut[1]))\n",
    "        #if the edge exists in the graph, add its capacity to the total capacity of the all cuts (\"c\")\n",
    "        for edge in possible_edges:\n",
    "            if edge in G.edges:\n",
    "                c+=G[edge[0]][edge[1]][\"capacity\"]\n",
    "        \n",
    "\n",
    "    return c"
   ]
  },
  {
   "cell_type": "code",
   "execution_count": 6,
   "id": "b5f74d5c-ea76-4ee2-a574-986ad3714344",
   "metadata": {
    "tags": []
   },
   "outputs": [],
   "source": [
    "# This recursive function takes as input a graph (\"G\"), a possible cut (\"cut_nodes\") in the form of a list [set_o, set_d] made up of two lists, representing the partitions containing the origin node and destination node respectively,\n",
    "# the amount of capacity (\"available_capaciry\") that can still be added to edges and the list of edges which have already received a unit of bonus capacity (\"added_capacities\")\n",
    "# We iteratively add capacities on edges of a previously computed cut, then for each change in the graph capacities the function is called recursively for each new min_cut and with one less unit of available capacity\n",
    "# when the available capacity reaches value zero, we compute the maximum flow of the new graph, if needed we update the value of the global max flow found and save in a list the capacity allocation that produced the result\n",
    "def recur_func(G, cut_nodes, available_capacity, added_capacities):\n",
    "    global max_flow_global\n",
    "    global added_capacities_global\n",
    "    \n",
    "    if available_capacity==0:\n",
    "        max_flow=nx.algorithms.flow.maximum_flow(G,'o','d')[0]\n",
    "        \n",
    "        if max_flow==max_flow_global:\n",
    "            if added_capacities not in added_capacities_global:\n",
    "                a=added_capacities_global\n",
    "                a.append(added_capacities)\n",
    "                added_capacities_global=copy.deepcopy(a)\n",
    "      \n",
    "        if max_flow>max_flow_global:\n",
    "            a=list()\n",
    "            a.append(added_capacities)\n",
    "            added_capacities_global=copy.deepcopy(a)\n",
    "            max_flow_global=max_flow\n",
    "            \n",
    "        return\n",
    "       \n",
    "    #combinations of nodes on the cut\n",
    "    combinations = [p for p in itertools.product(cut_nodes[0], cut_nodes[1])]\n",
    "\n",
    "    for i in range(0,len(combinations)):\n",
    "        pair=combinations[i]\n",
    "\n",
    "        #check that the pair of nodes represents a link in the graph G\n",
    "        if pair in G.edges:\n",
    "            #add capacity to the found edge\n",
    "            G[pair[0]][pair[1]][\"capacity\"]+=1\n",
    "            added_capacities.append(pair)\n",
    "            #compute new cuts\n",
    "            cuts=cuts_compute(G)\n",
    "            #select min cuts among \"cuts\"\n",
    "            min_capacity, min_cuts = min_cuts_select(cuts, G)\n",
    "            #iterate on each newly found min cut\n",
    "            for cut in min_cuts:\n",
    "                # recur with one unit of available capacity less\n",
    "                recur_func(G, cut, available_capacity-1, added_capacities)\n",
    "            #restore values of capacities\n",
    "            G[pair[0]][pair[1]][\"capacity\"]-=1\n",
    "            added_capacities.remove(pair)\n",
    "    return"
   ]
  },
  {
   "cell_type": "code",
   "execution_count": 7,
   "id": "9e368a40-9892-477f-9406-4c2478143bbc",
   "metadata": {},
   "outputs": [],
   "source": [
    "#wrapper function for the main recursive function \"recur_func\"\n",
    "#takes as input a graph \"G\" and the available capacity that can be distributed on nodes\n",
    "#returns the max_flow reachable adding the available_capacity on the graph and the allocations of such capacity that yield such result\n",
    "def max_flow_capacities_placement(G, available_capacity):\n",
    "    global max_flow_global\n",
    "    global added_capacities_global\n",
    "    max_flow_global=-np.inf\n",
    "    added_capacities_global=[]\n",
    "    added_capacities=[]\n",
    "    cuts=cuts_compute(G)\n",
    "    min_capacity, min_cuts = min_cuts_select(cuts, G)\n",
    "    for cut in min_cuts:\n",
    "        recur_func(G, cut, available_capacity, added_capacities)\n",
    "    \n",
    "    #remove duplicates   \n",
    "    clean_added_cap=list(map(list, set(tuple(sorted(k)) for k in added_capacities_global)))\n",
    "    n=len(clean_added_cap)\n",
    "    print(\"There are\", n, \"possible combinations of added capacities with max flow\",max_flow_global)\n",
    "    translated = translate_edges_name(clean_added_cap)\n",
    "    print(\"Combinations of added capacities on edges in the form [e1,e2,e3,e4,e5]:\")\n",
    "    for comb in translated:\n",
    "        print(comb)\n",
    "    return max_flow_global, clean_added_cap"
   ]
  },
  {
   "cell_type": "code",
   "execution_count": 8,
   "id": "a7d67c57-1d0d-4016-9358-258b8ae8ecb2",
   "metadata": {},
   "outputs": [],
   "source": [
    "def translate_edges_name(clean_combinations):\n",
    "    translated_combinations=[]\n",
    "    \n",
    "    for comb in clean_combinations:\n",
    "        trans_comb=[0,0,0,0,0]\n",
    "        for edge in comb:\n",
    "            if edge==('o', 'a'):\n",
    "                trans_comb[0]+=1\n",
    "            if edge==('o', 'b'):\n",
    "                trans_comb[1]+=1\n",
    "            if edge==('a', 'b'):\n",
    "                trans_comb[2]+=1\n",
    "            if edge==('a', 'd'):\n",
    "                trans_comb[3]+=1\n",
    "            if edge==('b', 'd'):\n",
    "                trans_comb[4]+=1\n",
    "        translated_combinations.append(trans_comb)\n",
    "\n",
    "    return translated_combinations"
   ]
  },
  {
   "cell_type": "markdown",
   "id": "0517ae7e-58b5-4691-bd8c-133eb912ee7c",
   "metadata": {},
   "source": [
    "# A"
   ]
  },
  {
   "cell_type": "code",
   "execution_count": 9,
   "id": "a2cc3923-07ae-4fa6-9ae9-418d09b4c04c",
   "metadata": {},
   "outputs": [
    {
     "data": {
      "image/png": "[encoded data removed]",
      "text/plain": [
       "<Figure size 432x288 with 1 Axes>"
      ]
     },
     "metadata": {},
     "output_type": "display_data"
    }
   ],
   "source": [
    "G = nx.DiGraph()\n",
    "G.add_edges_from([('o','a'),('o','b'),('a','b'),('a','d'),('b','d')])\n",
    "\n",
    "G['o']['a']['capacity'] = 3\n",
    "G['o']['b']['capacity'] = 2\n",
    "G['a']['b']['capacity'] = 2\n",
    "G['a']['d']['capacity'] = 3\n",
    "G['b']['d']['capacity'] = 2\n",
    "\n",
    "pos = {'o': (40, 20), 'a': (60, 35), 'b': (60, 5), 'd': (80, 20)}\n",
    "\n",
    "labels = ['e1','e2','e3','e4','e5']\n",
    "\n",
    "zip_operator = zip(G.edges(), labels)\n",
    "labels = dict(zip_operator)\n",
    "\n",
    "nx.draw_networkx_edge_labels(G,pos,edge_labels = labels)\n",
    "\n",
    "nx.draw(G, pos, with_labels = True, node_color='grey', node_size=600,linewidths=1.5)\n",
    "#plt.savefig(\"ex1_graph.eps\", format='eps')"
   ]
  },
  {
   "cell_type": "code",
   "execution_count": 10,
   "id": "a20389f6-7d01-46d5-8e2f-5255046a157a",
   "metadata": {},
   "outputs": [
    {
     "data": {
      "text/plain": [
       "(5, {'o': {'a': 3, 'b': 2}, 'a': {'b': 0, 'd': 3}, 'b': {'d': 2}, 'd': {}})"
      ]
     },
     "execution_count": 10,
     "metadata": {},
     "output_type": "execute_result"
    }
   ],
   "source": [
    "nx.algorithms.flow.maximum_flow(G,'o','d')"
   ]
  },
  {
   "cell_type": "code",
   "execution_count": 11,
   "id": "6330594a-1bd1-4473-bf9d-e1d4e297aa45",
   "metadata": {},
   "outputs": [
    {
     "data": {
      "text/plain": [
       "(5, ({'a', 'b', 'o'}, {'d'}))"
      ]
     },
     "execution_count": 11,
     "metadata": {},
     "output_type": "execute_result"
    }
   ],
   "source": [
    "nx.algorithms.flow.minimum_cut(G,'o','d')"
   ]
  },
  {
   "cell_type": "markdown",
   "id": "0ca59141-ed29-4fc2-a387-d80a73ba97e3",
   "metadata": {},
   "source": [
    "# B"
   ]
  },
  {
   "cell_type": "code",
   "execution_count": 12,
   "id": "ca2b2803-84dd-47fd-9a8d-53313912c5ce",
   "metadata": {},
   "outputs": [
    {
     "name": "stdout",
     "output_type": "stream",
     "text": [
      "There are 4 possible combinations of added capacities with max flow 5\n",
      "Combinations of added capacities on edges in the form [e1,e2,e3,e4,e5]:\n",
      "[0, 0, 0, 0, 1]\n",
      "[0, 0, 0, 1, 0]\n",
      "[1, 0, 0, 0, 0]\n",
      "[0, 1, 0, 0, 0]\n"
     ]
    }
   ],
   "source": [
    "G_auxB=copy.copy(G)\n",
    "mfcp1=max_flow_capacities_placement(G_auxB, 1)"
   ]
  },
  {
   "cell_type": "markdown",
   "id": "dbe4e927-1ca0-45fa-b25d-38bf1e07077f",
   "metadata": {},
   "source": [
    "# C"
   ]
  },
  {
   "cell_type": "code",
   "execution_count": 13,
   "id": "827ae67f-01eb-4441-b2f8-e4b487cf31bd",
   "metadata": {},
   "outputs": [
    {
     "name": "stdout",
     "output_type": "stream",
     "text": [
      "There are 3 possible combinations of added capacities with max flow 6\n",
      "Combinations of added capacities on edges in the form [e1,e2,e3,e4,e5]:\n",
      "[1, 0, 0, 0, 1]\n",
      "[1, 0, 0, 1, 0]\n",
      "[0, 1, 0, 0, 1]\n"
     ]
    }
   ],
   "source": [
    "G_auxC=copy.copy(G)\n",
    "mfcp2=max_flow_capacities_placement(G_auxC, 2)"
   ]
  },
  {
   "cell_type": "markdown",
   "id": "8befb9f6-cbca-4088-8420-b736fdd153ca",
   "metadata": {},
   "source": [
    "# D"
   ]
  },
  {
   "cell_type": "code",
   "execution_count": 14,
   "id": "e4a3e9dd-4461-4d35-99c2-684a01c75b3b",
   "metadata": {},
   "outputs": [
    {
     "name": "stdout",
     "output_type": "stream",
     "text": [
      "There are 6 possible combinations of added capacities with max flow 7\n",
      "Combinations of added capacities on edges in the form [e1,e2,e3,e4,e5]:\n",
      "[2, 0, 0, 0, 2]\n",
      "[2, 0, 0, 1, 1]\n",
      "[1, 1, 0, 0, 2]\n",
      "[2, 0, 0, 2, 0]\n",
      "[0, 2, 0, 0, 2]\n",
      "[1, 1, 0, 1, 1]\n"
     ]
    }
   ],
   "source": [
    "G_auxD=copy.copy(G)\n",
    "mfcp4=max_flow_capacities_placement(G_auxD, 4)"
   ]
  },
  {
   "cell_type": "markdown",
   "id": "b2e47834-e764-4d43-a3c4-d3d5ed214e9c",
   "metadata": {},
   "source": [
    "## D.b"
   ]
  },
  {
   "cell_type": "code",
   "execution_count": 15,
   "id": "c10fe070-a0ee-4210-b625-34eb77a00807",
   "metadata": {},
   "outputs": [
    {
     "name": "stdout",
     "output_type": "stream",
     "text": [
      "There are 6 possible combinations of added capacities with max flow 7\n",
      "Combinations of added capacities on edges in the form [e1,e2,e3,e4,e5]:\n",
      "[2, 0, 0, 0, 2]\n",
      "[2, 0, 0, 1, 1]\n",
      "[1, 1, 0, 0, 2]\n",
      "[2, 0, 0, 2, 0]\n",
      "[0, 2, 0, 0, 2]\n",
      "[1, 1, 0, 1, 1]\n",
      "The maximum sum of cut capacities is 30 and comes from combinations:\n",
      " [[('b', 'd'), ('b', 'd'), ('o', 'a'), ('o', 'a')], [('a', 'd'), ('b', 'd'), ('o', 'a'), ('o', 'a')], [('b', 'd'), ('b', 'd'), ('o', 'a'), ('o', 'b')], [('a', 'd'), ('a', 'd'), ('o', 'a'), ('o', 'a')], [('b', 'd'), ('b', 'd'), ('o', 'b'), ('o', 'b')], [('a', 'd'), ('b', 'd'), ('o', 'a'), ('o', 'b')]]\n"
     ]
    }
   ],
   "source": [
    "G_auxD=copy.copy(G)\n",
    "max_flowD, capacities_combD=max_flow_capacities_placement(G_auxD, 4)\n",
    "max_sum_comb=[]\n",
    "max_sum=-np.inf\n",
    "#iterate on combinations of capacity placements that give a maximum flow\n",
    "for combination in capacities_combD:\n",
    "    #generate new graph with added capacity \n",
    "    G_auxD1=copy.deepcopy(G)\n",
    "    for edge in combination:\n",
    "        G_auxD1[edge[0]][edge[1]][\"capacity\"]+=1\n",
    "    #compute sum of cut capacities\n",
    "    cuts=cuts_compute(G_auxD1)\n",
    "    c=sum_cut_capacities(cuts, G_auxD1)\n",
    "    if c==max_sum:\n",
    "        max_sum_comb.append(combination)\n",
    "    if c>max_sum:\n",
    "        max_sum=c\n",
    "        max_sum_comb=[]\n",
    "        max_sum_comb.append(combination)\n",
    "print(\"The maximum sum of cut capacities is\",max_sum,\"and comes from combinations:\\n\",max_sum_comb)"
   ]
  },
  {
   "cell_type": "code",
   "execution_count": 16,
   "id": "ed2152f8-f194-448e-97b0-7081d82329af",
   "metadata": {},
   "outputs": [
    {
     "name": "stdout",
     "output_type": "stream",
     "text": [
      "There are 6 combinations with maximum sum of cut capacities, \n",
      "thus they are all the ones computed in point D\n"
     ]
    }
   ],
   "source": [
    "print(\"There are\",len(max_sum_comb),\"combinations with maximum sum of cut capacities, \\nthus they are all the ones computed in point D\")"
   ]
  },
  {
   "cell_type": "code",
   "execution_count": null,
   "id": "4778500d-b8e7-402b-94fc-f069e1dd8e35",
   "metadata": {},
   "outputs": [],
   "source": []
  }
 ],
 "metadata": {
  "kernelspec": {
   "display_name": "NDL_env",
   "language": "python",
   "name": "ndl_env"
  },
  "language_info": {
   "codemirror_mode": {
    "name": "ipython",
    "version": 3
   },
   "file_extension": ".py",
   "mimetype": "text/x-python",
   "name": "python",
   "nbconvert_exporter": "python",
   "pygments_lexer": "ipython3",
   "version": "3.8.11"
  }
 },
 "nbformat": 4,
 "nbformat_minor": 5
}
