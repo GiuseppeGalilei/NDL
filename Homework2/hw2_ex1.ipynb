{
 "cells": [
  {
   "cell_type": "markdown",
   "id": "7300c33d-3b61-4b75-ba69-d5f1c63eee57",
   "metadata": {
    "jp-MarkdownHeadingCollapsed": true,
    "tags": []
   },
   "source": [
    "Giuseppe Galilei s295620"
   ]
  },
  {
   "cell_type": "markdown",
   "id": "98b89e1b-3d91-4eb2-a298-54f120a85ab2",
   "metadata": {},
   "source": [
    "# Problem 1"
   ]
  },
  {
   "cell_type": "code",
   "execution_count": 1,
   "id": "08b0a693-d9e1-4e7f-860f-2ae92df8bd5e",
   "metadata": {},
   "outputs": [],
   "source": [
    "import networkx as nx\n",
    "import matplotlib.pyplot as plt\n",
    "import numpy as np\n",
    "import copy"
   ]
  },
  {
   "cell_type": "markdown",
   "id": "3d185819-74a8-41d5-b157-d3cd840c5c9f",
   "metadata": {},
   "source": [
    "Single particle performing continuous time random walk with transition rate matrix P"
   ]
  },
  {
   "cell_type": "code",
   "execution_count": 2,
   "id": "7ffda35a-7d70-4127-9aff-ace53578a1de",
   "metadata": {},
   "outputs": [],
   "source": [
    "#transition rate matrix\n",
    "lambda_matrix=[[0,2/5,1/5,0,0],\n",
    "   [0,0,3/4,1/4,0],\n",
    "   [1/2,0,0,1/2,0],\n",
    "   [0,0,1/3,0,2/3],\n",
    "   [0,1/3,0,1/3,0]]"
   ]
  },
  {
   "cell_type": "code",
   "execution_count": 3,
   "id": "bf817393-8b24-4adf-91fc-d55af633e2a2",
   "metadata": {},
   "outputs": [],
   "source": [
    "G=nx.DiGraph()\n",
    "G.add_nodes_from(['o','a','b','c','d'])\n",
    "G.add_edges_from([('o','a'),('o','b'),('a','b'),('a','c'),('b','o'),('b','c'),('c','b'),('c','d'),('d','a'),('d','c')])"
   ]
  },
  {
   "cell_type": "code",
   "execution_count": 4,
   "id": "4fd43b3e-219d-48ff-92e1-6a87707dcbfd",
   "metadata": {},
   "outputs": [
    {
     "data": {
      "image/png": "[encoded data removed]",
      "text/plain": [
       "<Figure size 432x288 with 1 Axes>"
      ]
     },
     "metadata": {},
     "output_type": "display_data"
    }
   ],
   "source": [
    "pos={'o': (0,1.5),'a': (1,3),'b': (1,0),'c': (2,0),'d': (2,3)}\n",
    "nx.draw(G, pos, connectionstyle=\"arc3, rad=0.2\", with_labels=True,node_color='grey',node_size=400)\n",
    "plt.savefig(\"hw2_1.eps\", format='eps')"
   ]
  },
  {
   "cell_type": "code",
   "execution_count": 5,
   "id": "a05236f3-91e5-4f69-bd72-cb54b6c1ac29",
   "metadata": {},
   "outputs": [],
   "source": [
    "nodeToInt={'o':0,'a':1,'b':2,'c':3,'d':4}"
   ]
  },
  {
   "cell_type": "markdown",
   "id": "684cad2b-a2ad-4fa6-bb9d-4f85e39b37d0",
   "metadata": {},
   "source": [
    "## A"
   ]
  },
  {
   "cell_type": "code",
   "execution_count": 6,
   "id": "72cf6e46-a91b-4279-a3bd-b5b817c12c35",
   "metadata": {},
   "outputs": [],
   "source": [
    "def hittingTime_compute(lambda_matrix, pos_start, pos_dest_array, nodeToInt_dict, returnTime_compute=False):\n",
    "    time_to_dest=0\n",
    "    \n",
    "    #if we are not computing return times, check if starting position is already in the destination array\n",
    "    if returnTime_compute==False:\n",
    "        if pos_start in pos_dest_array:\n",
    "            return time_to_dest\n",
    "        \n",
    "    w = np.sum(lambda_matrix, axis=1)\n",
    "    w_star = np.max(w)\n",
    "    Q = lambda_matrix/w_star \n",
    "    Q = Q + np.diag(np.ones(len(w))-np.sum(Q,axis=1))\n",
    "    Q_cum = np.cumsum(Q, axis=1)\n",
    "    \n",
    "    t_next = -np.log(np.random.rand())/w_star\n",
    "\n",
    "    pos_start=nodeToInt_dict[pos_start]\n",
    "    pos_dest_array=list(map(lambda x: nodeToInt_dict[x], pos_dest_array))\n",
    "\n",
    "    #initialize the starting position\n",
    "    pos_pre=pos_start\n",
    "    \n",
    "    #here i just continue executing while i don't hit the destination\n",
    "    while True:\n",
    "        #choose new position\n",
    "        pos_post = np.argwhere(Q_cum[pos_pre] > np.random.rand())[0][0]\n",
    "        time_to_dest += t_next\n",
    "        \n",
    "        #check if arrived to destination\n",
    "        if pos_post in pos_dest_array:\n",
    "            return time_to_dest\n",
    "        \n",
    "        #compute next tick of the clock\n",
    "        t_next = -np.log(np.random.rand())/w_star\n",
    "        #update position\n",
    "        pos_pre=pos_post\n",
    "        "
   ]
  },
  {
   "cell_type": "code",
   "execution_count": 7,
   "id": "8d140156-ab68-4bfc-8852-96456a7c1d5b",
   "metadata": {},
   "outputs": [
    {
     "name": "stdout",
     "output_type": "stream",
     "text": [
      "The average return time for node A is: 6.742411865918969\n"
     ]
    }
   ],
   "source": [
    "tot_time=0\n",
    "for n in range (1, 100000):\n",
    "    tot_time+=hittingTime_compute(lambda_matrix, 'a', ['a'], nodeToInt, returnTime_compute=True)\n",
    "avg_time=tot_time/n\n",
    "print(\"The average return time for node A is:\", avg_time)"
   ]
  },
  {
   "cell_type": "markdown",
   "id": "086bc9bf-3282-4028-bed0-9fa58906a262",
   "metadata": {},
   "source": [
    "## B"
   ]
  },
  {
   "cell_type": "markdown",
   "id": "56d3c1f0-f89b-40ff-97e1-89eed0aff3fc",
   "metadata": {},
   "source": [
    "The following formula was used:\n",
    "$$\n",
    "\\mathbb{E}_{i}\\left[\\bar{T}_{i}^{+}\\right]=\\frac{1}{\\omega_{i} \\bar{\\pi}_{i}}, \\quad i \\in \\mathcal{X}\n",
    "$$\n",
    "where $\\bar{T}_{i}^{+}=\\inf \\{t \\geq 0: X(t)=i$ and $X(s) \\neq i$ for some $s \\in(0, t)\\}$"
   ]
  },
  {
   "cell_type": "code",
   "execution_count": 8,
   "id": "e839629e-e00c-4fff-a61b-4ce4f1e63846",
   "metadata": {},
   "outputs": [
    {
     "name": "stdout",
     "output_type": "stream",
     "text": [
      "The graph G is strongly connected: True\n"
     ]
    }
   ],
   "source": [
    "print(\"The graph G is strongly connected:\", nx.algorithms.components.is_strongly_connected(G))"
   ]
  },
  {
   "cell_type": "code",
   "execution_count": 9,
   "id": "523c7a82-78f8-4f24-b615-3a6097d97715",
   "metadata": {},
   "outputs": [
    {
     "name": "stdout",
     "output_type": "stream",
     "text": [
      "The theoretical return time for node A is: 6.750000000000008\n"
     ]
    }
   ],
   "source": [
    "w = np.sum(lambda_matrix, axis=1)\n",
    "w_star = np.max(w)\n",
    "Q = lambda_matrix/w_star \n",
    "Q = Q + np.diag(np.ones(len(w))-np.sum(Q,axis=1))\n",
    "\n",
    "values,vectors = np.linalg.eig(Q.T)\n",
    "index = np.argmax(values.real)\n",
    "pi_bar = vectors[:,index].real\n",
    "pi_bar = pi_bar/np.sum(pi_bar)\n",
    "\n",
    "exp=1/(w*pi_bar)\n",
    "\n",
    "print(\"The theoretical return time for node A is:\", exp[1])"
   ]
  },
  {
   "cell_type": "markdown",
   "id": "3e81f4cd-f1bc-471e-a629-546f6d8c8305",
   "metadata": {},
   "source": [
    "## C"
   ]
  },
  {
   "cell_type": "code",
   "execution_count": 10,
   "id": "17f473b6-da2e-433e-a50d-019a34d1f54f",
   "metadata": {},
   "outputs": [
    {
     "name": "stdout",
     "output_type": "stream",
     "text": [
      "The average hitting time from node O to D is: 8.768414753042718\n"
     ]
    }
   ],
   "source": [
    "tot_time=0\n",
    "for n in range (1, 100000):\n",
    "    tot_time+=hittingTime_compute(lambda_matrix, 'o', ['d'], nodeToInt)\n",
    "avg_time=tot_time/n\n",
    "print(\"The average hitting time from node O to D is:\",avg_time)"
   ]
  },
  {
   "cell_type": "markdown",
   "id": "870b6a9e-e21c-4643-873b-ddb2f3e38e4f",
   "metadata": {},
   "source": [
    "## D"
   ]
  },
  {
   "cell_type": "markdown",
   "id": "f082cca8-62cc-408c-9d03-2c78ddb43afb",
   "metadata": {},
   "source": [
    "If $\\mathcal{S} \\subseteq \\mathcal{X}$ is a subset of states that is globally reachable in $G_{\\Lambda}$, then\n",
    "\n",
    "the expected hitting times\n",
    "$$\n",
    "\\bar{\\tau}_{i}^{S}=\\mathbb{E}_{i}\\left[T_{S}\\right], \\quad i \\in \\mathcal{X}\n",
    "$$\n",
    "are the unique solutions of\n",
    "$$\n",
    "\\bar{\\tau}_{s}^{S}=0, \\quad s \\in \\mathcal{S}, \\quad \\bar{\\tau}_{i}^{S}=\\frac{1}{\\omega_{i}}+\\sum_{j \\in \\mathcal{X}} P_{i j} \\bar{\\tau}_{j}^{S}, \\quad i \\in \\mathcal{X} \\backslash \\mathcal{S}\n",
    "$$\n",
    "\n",
    "The latter can be seen as \n",
    "$$\n",
    "\\bar{\\tau}^{S}=\\frac{1}{\\omega}+Q\\bar{\\tau}^{S}\n",
    "$$\n",
    "Then \n",
    "$$\n",
    "\\bar{\\tau}^{S}=(I-Q)^{-1}\\frac{1}{\\omega}\n",
    "$$"
   ]
  },
  {
   "cell_type": "code",
   "execution_count": 11,
   "id": "7cbd2f13-eaa9-49d5-a81e-6accae0469fe",
   "metadata": {},
   "outputs": [
    {
     "name": "stdout",
     "output_type": "stream",
     "text": [
      "The theoretical hitting time from node O to D is: 8.785714285714285\n"
     ]
    }
   ],
   "source": [
    "n_nodes = 5\n",
    "S = [4] \n",
    "R = [node for node in range(n_nodes) if node not in S]\n",
    "w = np.sum(lambda_matrix, axis=1)\n",
    "D = np.diag(w)\n",
    "P = np.linalg.inv(D) @ lambda_matrix\n",
    "\n",
    "\n",
    "Q = P[np.ix_(R, R)]\n",
    "\n",
    "tau_S = np.linalg.solve((np.identity(n_nodes-1)-Q),np.ones(n_nodes-1)/w[:4])\n",
    "\n",
    "print(\"The theoretical hitting time from node O to D is:\",tau_S[0] )"
   ]
  },
  {
   "cell_type": "markdown",
   "id": "50ce480d-16c1-4d75-a97c-c040e4ad450a",
   "metadata": {},
   "source": [
    "# Part 2"
   ]
  },
  {
   "cell_type": "markdown",
   "id": "0ed9bf54-0b17-4015-81e2-1370d33e77d2",
   "metadata": {},
   "source": [
    "## E"
   ]
  },
  {
   "cell_type": "markdown",
   "id": "ae225983-e34b-42ea-afb0-89fd5b800b3e",
   "metadata": {},
   "source": [
    "Study topology of the graph (number of sinks, aperiodicity,connected components)"
   ]
  },
  {
   "cell_type": "code",
   "execution_count": 12,
   "id": "9eed1c09-4f10-457f-a3e7-06c2410931e1",
   "metadata": {},
   "outputs": [
    {
     "data": {
      "image/png": "[encoded data removed]",
      "text/plain": [
       "<Figure size 432x288 with 1 Axes>"
      ]
     },
     "metadata": {},
     "output_type": "display_data"
    }
   ],
   "source": [
    "nx.draw(G, pos, connectionstyle=\"arc3, rad=0.2\", with_labels=True,node_color='grey',node_size=400)\n",
    "plt.savefig(\"hw2_1_e.eps\", format='eps')"
   ]
  },
  {
   "cell_type": "code",
   "execution_count": 13,
   "id": "f553ba72-6298-4ee2-b178-06a42258d202",
   "metadata": {},
   "outputs": [
    {
     "name": "stdout",
     "output_type": "stream",
     "text": [
      "The graph is aperiodic= True\n",
      "The condensation graph is made of only one connected component, we derive the graph is strongly connected\n"
     ]
    },
    {
     "data": {
      "image/png": "[encoded data removed]",
      "text/plain": [
       "<Figure size 432x288 with 1 Axes>"
      ]
     },
     "metadata": {},
     "output_type": "display_data"
    }
   ],
   "source": [
    "nx.draw(nx.condensation(G),node_color='grey',node_size=500)\n",
    "print(\"The graph is aperiodic=\", nx.algorithms.is_aperiodic(G))\n",
    "print(\"The condensation graph is made of only one connected component, we derive the graph is strongly connected\")"
   ]
  },
  {
   "cell_type": "code",
   "execution_count": 15,
   "id": "740d9a44-067c-43ba-bb33-ab640c29f5fa",
   "metadata": {},
   "outputs": [
    {
     "name": "stdout",
     "output_type": "stream",
     "text": [
      "pi 0 = [0.13043478 0.17391304 0.26086957 0.26086957 0.17391304]\n"
     ]
    }
   ],
   "source": [
    "W = lambda_matrix\n",
    "degrees = np.sum(W,axis=1)\n",
    "D = np.diag(degrees)\n",
    "P = np.linalg.inv(D) @ W\n",
    "w,v = np.linalg.eig(P.T)\n",
    "for index in [i for i in range(len(G)) if np.isclose(w[i],1)]: \n",
    "    pi = v[:,index].real\n",
    "    pi = pi/np.sum(pi)\n",
    "    print(\"pi\", index, \"=\", pi)"
   ]
  },
  {
   "cell_type": "code",
   "execution_count": null,
   "id": "437be570-04fe-4aaf-969a-e6ac235ced61",
   "metadata": {},
   "outputs": [],
   "source": [
    "# define initial condition\n",
    "x = np.random.random(5)\n",
    "x_0=x\n",
    "for n in range(99):\n",
    "    x = P @ x\n",
    "print(\"x(100):\", x, \"\\n\")\n",
    "\n",
    "print(\"Using the invariant distribution, the consensus value is\", pi.T@x_0)"
   ]
  },
  {
   "cell_type": "code",
   "execution_count": 17,
   "id": "0ab739c4-3435-4c0f-b138-122655ea839a",
   "metadata": {},
   "outputs": [
    {
     "name": "stdout",
     "output_type": "stream",
     "text": [
      "x(100): [0.10826088 0.10826088 0.10826088 0.10826088 0.10826088] \n",
      "\n",
      "The initial condition is: [ 0.74856242  0.0903823   0.19495301 -1.36592734  1.72715741]\n",
      "Using the invariant distribution, the consensus value is 0.10826087745863233\n"
     ]
    }
   ],
   "source": [
    "#theoretical consensus value and initial conditions\n",
    "x = np.random.normal(0,1,5)\n",
    "x_0=x\n",
    "for n in range(99):\n",
    "    x = P @ x\n",
    "print(\"x(100):\", x, \"\\n\")\n",
    "\n",
    "print(\"The initial condition is:\", x_0)\n",
    "print(\"Using the invariant distribution, the consensus value is\", pi.T@x_0)"
   ]
  },
  {
   "cell_type": "markdown",
   "id": "9534ccee-66b3-424a-b789-244ddabed75b",
   "metadata": {},
   "source": [
    "## F"
   ]
  },
  {
   "cell_type": "markdown",
   "id": "41805b4a-184e-4141-babf-ebb77c35b4ae",
   "metadata": {},
   "source": [
    "## F"
   ]
  },
  {
   "cell_type": "markdown",
   "id": "0da3809e-aabc-4299-82db-4a0321337e91",
   "metadata": {},
   "source": [
    "The following formula is used to determine the theoretical variance\n",
    "$$\n",
    "\\sigma_{\\bar{x}}^{2}=\\sigma^{2} \\sum_{i} \\pi_{i}^{2}\n",
    "$$"
   ]
  },
  {
   "cell_type": "code",
   "execution_count": 19,
   "id": "2601f21e-ca3e-4420-9457-762ebe94db90",
   "metadata": {},
   "outputs": [
    {
     "name": "stdout",
     "output_type": "stream",
     "text": [
      "Variance of the node states: 1\n",
      "Variance of the consensus state: 0.20928431107818002 \n",
      "\n",
      "The theoretical variance for consensus is: 0.21361058601134214\n"
     ]
    }
   ],
   "source": [
    "# start with normally distributed initial states and run the dynamics\n",
    "alfa_err = np.zeros(10000)\n",
    "\n",
    "for i in range(10000):\n",
    "    x = np.random.normal(0,1,5)\n",
    "    for n in range(2000):\n",
    "        x = P @ x\n",
    "    alfa_err[i] = np.mean(x)*np.mean(x)\n",
    "\n",
    "print(\"Variance of the node states:\", 1)\n",
    "print(\"Variance of the consensus state:\", np.mean(alfa_err), \"\\n\")\n",
    "var_consensus=1*np.sum(np.power(pi,2))\n",
    "print(\"The theoretical variance for consensus is:\",var_consensus)"
   ]
  },
  {
   "cell_type": "code",
   "execution_count": null,
   "id": "08353aec-4074-418d-a29f-4ab55129747d",
   "metadata": {},
   "outputs": [],
   "source": [
    "var_consensus=(1/12)*np.sum(np.power(pi,2))\n",
    "print(\"The theoretical variance for consensus is:\",var_consensus)"
   ]
  },
  {
   "cell_type": "markdown",
   "id": "ae2cd6d7-539b-42ed-b5df-8d32ad99bcef",
   "metadata": {},
   "source": [
    "## G"
   ]
  },
  {
   "cell_type": "code",
   "execution_count": 20,
   "id": "0dd99984-a59f-4be7-9835-fb2d3ba33132",
   "metadata": {},
   "outputs": [
    {
     "data": {
      "image/png": "[encoded data removed]",
      "text/plain": [
       "<Figure size 432x288 with 1 Axes>"
      ]
     },
     "metadata": {},
     "output_type": "display_data"
    }
   ],
   "source": [
    "G1=copy.deepcopy(G)\n",
    "W1=copy.deepcopy(W)\n",
    "\n",
    "edges_toremove=[('d','a'),('d','c')]\n",
    "G1.remove_edges_from(edges_toremove)\n",
    "#update matrix\n",
    "for edge in edges_toremove:\n",
    "    W1[nodeToInt[edge[0]]][nodeToInt[edge[1]]]=0\n",
    "\n",
    "nx.draw(G1, pos, connectionstyle=\"arc3, rad=0.2\", with_labels=True,node_color='grey',node_size=400)\n",
    "plt.savefig(\"hw2_1_g.eps\", format='eps')"
   ]
  },
  {
   "cell_type": "markdown",
   "id": "47cbfebc-c34e-4165-a133-c606305806f9",
   "metadata": {},
   "source": [
    "Now node D is a sink, we get proof of that by analysing the connected components"
   ]
  },
  {
   "cell_type": "code",
   "execution_count": 21,
   "id": "868e7f46-863d-426b-82ca-4da5fa6fa889",
   "metadata": {},
   "outputs": [
    {
     "data": {
      "image/png": "[encoded data removed]",
      "text/plain": [
       "<Figure size 432x288 with 1 Axes>"
      ]
     },
     "metadata": {},
     "output_type": "display_data"
    }
   ],
   "source": [
    "nx.draw(nx.condensation(G1),node_color='grey',node_size=500, with_labels=True)"
   ]
  },
  {
   "cell_type": "code",
   "execution_count": 22,
   "id": "c0931126-2acb-4529-8414-e3cffef8b5a2",
   "metadata": {},
   "outputs": [],
   "source": [
    "#add self loop on node D\n",
    "G1.add_edge('d','d')\n",
    "W1[nodeToInt['d']][nodeToInt['d']]=1"
   ]
  },
  {
   "cell_type": "code",
   "execution_count": 23,
   "id": "2e50f58a-74ae-4258-a116-2f5109501b9b",
   "metadata": {},
   "outputs": [
    {
     "name": "stdout",
     "output_type": "stream",
     "text": [
      "pi 0 = [0. 0. 0. 0. 1.]\n"
     ]
    }
   ],
   "source": [
    "degrees = np.sum(W1,axis=1)\n",
    "D = np.diag(degrees)\n",
    "P = np.linalg.inv(D) @ W1\n",
    "w,v = np.linalg.eig(P.T)\n",
    "for index in [i for i in range(len(G)) if np.isclose(w[i],1)]: \n",
    "    pi = v[:,index].real\n",
    "    pi = pi/np.sum(pi)\n",
    "    print(\"pi\", index, \"=\", pi)"
   ]
  },
  {
   "cell_type": "code",
   "execution_count": 24,
   "id": "b197234d-a042-4cf7-94e1-f0af54f8f586",
   "metadata": {},
   "outputs": [
    {
     "name": "stdout",
     "output_type": "stream",
     "text": [
      "x(100): [0.87195809 0.87195809 0.87195809 0.87195809 0.87195809] \n",
      "\n",
      "The initial condition is: [0.66789878 0.56482793 0.53513582 0.77707701 0.87195809]\n",
      "Using the invariant distribution, the consensus value is 0.8719580865941438\n"
     ]
    }
   ],
   "source": [
    "#theoretical consensus value and initial conditions\n",
    "x = np.random.random(5)\n",
    "x_0=x\n",
    "for n in range(99):\n",
    "    x = P @ x\n",
    "print(\"x(100):\", x, \"\\n\")\n",
    "\n",
    "print(\"The initial condition is:\", x_0)\n",
    "print(\"Using the invariant distribution, the consensus value is\", pi.T@x_0)"
   ]
  },
  {
   "cell_type": "markdown",
   "id": "ef690062-e4a8-4d7e-aec3-0a4a8aac235c",
   "metadata": {},
   "source": [
    "We can see how all nodes converged to the state of the sink d"
   ]
  },
  {
   "cell_type": "code",
   "execution_count": 25,
   "id": "0492591e-4be1-4b1a-bb32-0dacd5226802",
   "metadata": {},
   "outputs": [
    {
     "name": "stdout",
     "output_type": "stream",
     "text": [
      "Variance of the node states: 1\n",
      "Variance of the consensus state: 1.0615237278161278 \n",
      "\n",
      "The theoretical variance for consensus is: 1.0\n"
     ]
    }
   ],
   "source": [
    "# start with random normally distributed initial states and run the dynamics\n",
    "alfa_err = np.zeros(1000)\n",
    "\n",
    "for i in range(1000):\n",
    "    x = np.random.normal(0,1,5)\n",
    "    for n in range(1000):\n",
    "        x = P @ x\n",
    "    alfa_err[i] = np.mean(x)*np.mean(x)\n",
    "\n",
    "print(\"Variance of the node states:\", 1)\n",
    "print(\"Variance of the consensus state:\", np.mean(alfa_err), \"\\n\")\n",
    "var_consensus=(np.sum(np.power(pi,2)))\n",
    "print(\"The theoretical variance for consensus is:\",var_consensus)"
   ]
  },
  {
   "cell_type": "markdown",
   "id": "b26b3ca6-8a27-4d4c-8914-2a79f302240f",
   "metadata": {},
   "source": [
    "## H"
   ]
  },
  {
   "cell_type": "code",
   "execution_count": 26,
   "id": "afb46bca-4b78-44cd-9665-88fdd3ed2fa7",
   "metadata": {},
   "outputs": [
    {
     "data": {
      "image/png": "[encoded data removed]",
      "text/plain": [
       "<Figure size 432x288 with 1 Axes>"
      ]
     },
     "metadata": {},
     "output_type": "display_data"
    }
   ],
   "source": [
    "G2=copy.deepcopy(G)\n",
    "W2=copy.deepcopy(W)\n",
    "\n",
    "edges_toremove=[('d','a'),('c','b')]\n",
    "G2.remove_edges_from(edges_toremove)\n",
    "#update matrix\n",
    "for edge in edges_toremove:\n",
    "    W2[nodeToInt[edge[0]]][nodeToInt[edge[1]]]=0\n",
    "\n",
    "nx.draw(G2, pos, connectionstyle=\"arc3, rad=0.2\", with_labels=True,node_color='grey',node_size=400)\n",
    "plt.savefig(\"hw2_1_h.eps\", format='eps')"
   ]
  },
  {
   "cell_type": "code",
   "execution_count": 27,
   "id": "900daa4f-69b1-48b0-adda-27d3b988b6ac",
   "metadata": {},
   "outputs": [
    {
     "name": "stdout",
     "output_type": "stream",
     "text": [
      "pi 0 = [-5.30655074e-16 -4.14666885e-16 -6.14043219e-16  5.00000000e-01\n",
      "  5.00000000e-01]\n"
     ]
    }
   ],
   "source": [
    "degrees = np.sum(W2,axis=1)\n",
    "D = np.diag(degrees)\n",
    "P = np.linalg.inv(D) @ W2\n",
    "w,v = np.linalg.eig(P.T)\n",
    "for index in [i for i in range(len(G)) if np.isclose(w[i],1)]: \n",
    "    pi = v[:,index].real \n",
    "    pi = pi/np.sum(pi)\n",
    "    print(\"pi\", index, \"=\", pi)"
   ]
  },
  {
   "cell_type": "code",
   "execution_count": 28,
   "id": "f546f080-c960-48aa-aac5-02e737dc723e",
   "metadata": {},
   "outputs": [
    {
     "data": {
      "image/png": "[encoded data removed]",
      "text/plain": [
       "<Figure size 432x288 with 1 Axes>"
      ]
     },
     "metadata": {},
     "output_type": "display_data"
    }
   ],
   "source": [
    "nx.draw(nx.condensation(G2),node_color='grey',node_size=500, with_labels=True)"
   ]
  },
  {
   "cell_type": "code",
   "execution_count": 29,
   "id": "77413f69-b723-40cd-9a67-aef317d5219f",
   "metadata": {},
   "outputs": [
    {
     "name": "stdout",
     "output_type": "stream",
     "text": [
      "x(100): [0.49598544 0.48671838 0.57012197 0.38478065 0.62572437] \n",
      "\n",
      "The initial condition is: [0.72531773 0.49963148 0.01566867 0.38478065 0.62572437]\n"
     ]
    }
   ],
   "source": [
    "#theoretical consensus value and initial conditions\n",
    "x = np.random.random(5)\n",
    "x_0=x\n",
    "for n in range(100000):\n",
    "    x = P @ x\n",
    "print(\"x(100):\", x, \"\\n\")\n",
    "\n",
    "print(\"The initial condition is:\", x_0)"
   ]
  },
  {
   "cell_type": "markdown",
   "id": "0492d0c0-5cbf-460a-a35d-d4c117fc0870",
   "metadata": {},
   "source": [
    "This time the sink component is composed of nodes c and d, it is not aperiodic, so we don't arrive to consensus"
   ]
  }
 ],
 "metadata": {
  "kernelspec": {
   "display_name": "NDL_env",
   "language": "python",
   "name": "ndl_env"
  },
  "language_info": {
   "codemirror_mode": {
    "name": "ipython",
    "version": 3
   },
   "file_extension": ".py",
   "mimetype": "text/x-python",
   "name": "python",
   "nbconvert_exporter": "python",
   "pygments_lexer": "ipython3",
   "version": "3.8.11"
  }
 },
 "nbformat": 4,
 "nbformat_minor": 5
}
